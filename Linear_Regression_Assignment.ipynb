{
 "cells": [
  {
   "cell_type": "markdown",
   "metadata": {},
   "source": [
    "# Implementing Linear Regression using Ordinary Least Squares method \n",
    "\n",
    "<p align>Linear regression is a linear technique for establishing the relationship between a dependent variable y and one or more independent(explanatory) variables denoted X. The case of one independent variable is called simple linear regression. For more than one independent variable, the process is called multiple linear regression.</p>\n",
    "<p align>We are implementing linear regression by using the Ordinary Least Squares method.Ordinary Least Squares (OLS) or linear least squares is a method for estimating the unknown parameters in a linear regression model, with the goal of minimizing the sum of the squares of the differences between the observed responses in the given dataset and those predicted by a linear function of a set of explanatory variables.</p>\n",
    "<p align>We are using the Boston housing dataset in order to predict the price of the houses based on the features like average number of rooms per dwelling, full-value property-tax rate per $10,000, etc. We have used all the features for our implementation algorithm and predicted the prices for the houses in Boston. </p>\n",
    "\n"
   ]
  },
  {
   "cell_type": "code",
   "execution_count": 23,
   "metadata": {
    "collapsed": true
   },
   "outputs": [],
   "source": [
    "#importing the libraries that are used in the program\n",
    "import pandas as pd\n",
    "import matplotlib.pyplot as plt\n",
    "import numpy as np\n",
    "import scipy.stats as stats\n",
    "import sklearn\n",
    "from sklearn.datasets import load_boston\n",
    "from sklearn.model_selection import KFold\n",
    "from sklearn import linear_model\n",
    "from sklearn.model_selection import train_test_split\n",
    "from sklearn.cross_validation import cross_val_score,cross_val_predict\n",
    "from sklearn import metrics\n",
    "%matplotlib inline"
   ]
  },
  {
   "cell_type": "markdown",
   "metadata": {},
   "source": [
    "\n",
    "<p align>We have loaded the Boston housing dataset into our program.\n",
    "Later, we normalised the dataset and added one more column called 'BIAS' and assigned it with value 1. This column allows to account for unexpalainable variance in the data. For example it can account for noise in the data. </p>\n",
    "<p align>We retrieve the response which is the price of the houses and assign it to Y. </p>\n",
    "\n",
    "\n"
   ]
  },
  {
   "cell_type": "code",
   "execution_count": 24,
   "metadata": {
    "collapsed": true
   },
   "outputs": [],
   "source": [
    "#Loading the data \n",
    "boston = load_boston() \n",
    "Xraw = pd.DataFrame(boston.data)\n",
    "\n",
    "# adding extra column\n",
    "Xraw.columns = boston.feature_names\n",
    "Xraw[\"BIAS\"]=1\n",
    "Y = pd.DataFrame({\"PRICE\":boston.target})\n",
    "\n",
    "# defining variables for function\n",
    "cal_accuracy_validation=[]\n",
    "cal_accuracy_lib_validation=[]\n",
    "beta_best=[]\n",
    "\n",
    "#normalization of data\n",
    "Xnor = sklearn.preprocessing.normalize(Xraw)\n",
    "X=pd.DataFrame(Xnor)"
   ]
  },
  {
   "cell_type": "markdown",
   "metadata": {},
   "source": [
    "<p align>We divide the dataset into rest data and test data. Later we use the rest data to train our model and test it with test data.</p>\n",
    "<p align>We use 5 fold validation on the rest data.</p>"
   ]
  },
  {
   "cell_type": "code",
   "execution_count": 25,
   "metadata": {
    "collapsed": false
   },
   "outputs": [
    {
     "name": "stdout",
     "output_type": "stream",
     "text": [
      "KFold(n_splits=5, random_state=None, shuffle=False)\n"
     ]
    }
   ],
   "source": [
    "X_rest, X_test, y_rest, y_test = train_test_split(X, Y, test_size=0.15, random_state=2)\n",
    "\n",
    "kf = KFold(n_splits=5)\n",
    "kf.get_n_splits(X_rest)\n",
    "print(kf)"
   ]
  },
  {
   "cell_type": "markdown",
   "metadata": {},
   "source": [
    "<p align> We are defining a function for performing algorithms and estimating accuracy. We are implementing ordinary least square method using our algorithm and machine learning API (sklearn). </p>\n",
    "<p align> We are randomly assigning some points of the rest data as training data and validation data.</p>\n",
    "<p align> We perform our algorithm on the entire rest data,  take some points as validation data and find the accuracy for that validation data.\n",
    "\n",
    "For linear algebra model, we use the following equation to calculate beta:\n",
    "            beta=(X^TX)^-1X^T*Y \n",
    "            \n",
    "Then with the beta value we calculate the linear regression as follows:\n",
    "                Y=beta*X+c\n",
    "\n",
    "</p>\n",
    "<p align> For the machine learning model, we use the built in library funtion imported from sklearn. </p>\n",
    "\n",
    "\n"
   ]
  },
  {
   "cell_type": "code",
   "execution_count": 26,
   "metadata": {
    "collapsed": true
   },
   "outputs": [],
   "source": [
    "def linear_ols():\n",
    "    X_train, X_validation, y_train, y_validation = X_rest.iloc[train], X_rest.iloc[validation], y_rest.iloc[train], y_rest.iloc[validation]\n",
    "    \n",
    "    \n",
    "    # linear algebra model \n",
    "    ## training \n",
    "    beta=np.linalg.inv(X_rest.T.dot(X_rest)).dot(X_rest.T).dot(y_rest)\n",
    "    beta_best.append(beta)\n",
    "    \n",
    "    ### For validation data \n",
    "    \n",
    "    ## prediction \n",
    "    y_pred_validation=np.dot(X_validation,beta)\n",
    "    \n",
    "    accuracy_validation=metrics.r2_score(y_validation,y_pred_validation)\n",
    "    \n",
    "    ## accuracy \n",
    "    cal_accuracy_validation.append(accuracy_validation)\n",
    "    \n",
    "    # library model \n",
    "    ## training \n",
    "    regr=linear_model.LinearRegression()\n",
    "    model=regr.fit(X_rest,y_rest)\n",
    "    \n",
    "\n",
    "    ### For training data \n",
    "    ### Far validation data \n",
    "    ## prediction \n",
    "    y_pred_lib_validation=regr.predict(X_validation)\n",
    "    accuracy_lib_validation=metrics.r2_score(y_validation,y_pred_lib_validation)\n",
    "    \n",
    "    ## accuracy \n",
    "    cal_accuracy_lib_validation.append(accuracy_lib_validation)\n",
    "    \n",
    "    return regr\n",
    "    \n",
    "\n",
    "    \n",
    "    "
   ]
  },
  {
   "cell_type": "markdown",
   "metadata": {},
   "source": [
    "Here we are calling the function 5 times, because we have created 5 fold validation"
   ]
  },
  {
   "cell_type": "code",
   "execution_count": 27,
   "metadata": {
    "collapsed": true
   },
   "outputs": [],
   "source": [
    "for train, validation in kf.split(X_rest):\n",
    "    reg=linear_ols()"
   ]
  },
  {
   "cell_type": "markdown",
   "metadata": {},
   "source": [
    "Here we are printing the accuracy of our algorithm for validation data."
   ]
  },
  {
   "cell_type": "code",
   "execution_count": 28,
   "metadata": {
    "collapsed": false
   },
   "outputs": [
    {
     "name": "stdout",
     "output_type": "stream",
     "text": [
      "linear algebra model accuracy values\n",
      "[0.75781861862447009, 0.76493614184818115, 0.72667377744331496, 0.60928319478929005, 0.81823296090950381]\n"
     ]
    }
   ],
   "source": [
    "print('linear algebra model accuracy values')\n",
    "\n",
    "print(cal_accuracy_validation)"
   ]
  },
  {
   "cell_type": "markdown",
   "metadata": {},
   "source": [
    "Here we print the accuracy of the Machine learning API for validation data."
   ]
  },
  {
   "cell_type": "code",
   "execution_count": 29,
   "metadata": {
    "collapsed": false
   },
   "outputs": [
    {
     "name": "stdout",
     "output_type": "stream",
     "text": [
      "Machine learning API model accuracy values\n",
      "[0.75761548545195267, 0.76598271934209938, 0.72680526165141779, 0.60951694948679247, 0.81719079878357292]\n"
     ]
    }
   ],
   "source": [
    "print('Machine learning API model accuracy values')\n",
    "\n",
    "print(cal_accuracy_lib_validation)"
   ]
  },
  {
   "cell_type": "markdown",
   "metadata": {},
   "source": [
    "From the validation data we get 5 accuracies for our algorithm. We will take the highest accuracy and print the corresponding beta value. "
   ]
  },
  {
   "cell_type": "code",
   "execution_count": 30,
   "metadata": {
    "collapsed": false
   },
   "outputs": [
    {
     "name": "stdout",
     "output_type": "stream",
     "text": [
      "[[ -8.93784831e+01]\n",
      " [  1.44851727e+01]\n",
      " [  1.84089486e+01]\n",
      " [  1.46470725e+03]\n",
      " [ -6.71029005e+03]\n",
      " [  2.56935324e+03]\n",
      " [  3.52061339e-01]\n",
      " [ -5.79329579e+02]\n",
      " [  2.01859391e+02]\n",
      " [  6.68575008e+00]\n",
      " [ -4.62654246e+02]\n",
      " [  1.46345991e+01]\n",
      " [ -2.58454619e+02]\n",
      " [  3.94121692e+03]]\n"
     ]
    }
   ],
   "source": [
    "print(beta_best[4])"
   ]
  },
  {
   "cell_type": "markdown",
   "metadata": {},
   "source": [
    "We use the Beta value in the test data and calculate the accuracy for test data. We then plot the graph of predicted prices vs actual prices (test data) for our linear algebra algorithm."
   ]
  },
  {
   "cell_type": "code",
   "execution_count": 31,
   "metadata": {
    "collapsed": false
   },
   "outputs": [
    {
     "data": {
      "text/plain": [
       "<matplotlib.text.Text at 0x7fe281bdbf90>"
      ]
     },
     "execution_count": 31,
     "metadata": {},
     "output_type": "execute_result"
    },
    {
     "data": {
      "image/png": "[encoded data removed]",
      "text/plain": [
       "<matplotlib.figure.Figure at 0x7fe281cc1290>"
      ]
     },
     "metadata": {},
     "output_type": "display_data"
    }
   ],
   "source": [
    "# linear algebra model on test data \n",
    "y_pred_test=np.dot(X_test,beta_best[4])\n",
    "accuracy_test=metrics.r2_score(y_test,y_pred_test)\n",
    "\n",
    "plt.scatter(y_test, y_pred_test)\n",
    "plt.xlabel(\"Prices: $Y_i$\")\n",
    "plt.ylabel(\"Predicted prices: $\\hat{Y}_i$\")\n",
    "plt.title(\"Prices vs Predicted prices: $Y_i$ vs $\\hat{Y}_i$\")\n"
   ]
  },
  {
   "cell_type": "code",
   "execution_count": 32,
   "metadata": {
    "collapsed": false,
    "scrolled": true
   },
   "outputs": [
    {
     "name": "stdout",
     "output_type": "stream",
     "text": [
      "('test accuracy for linear algebra model:', 0.75699106144338701)\n"
     ]
    }
   ],
   "source": [
    "print('test accuracy for linear algebra model:', accuracy_test)"
   ]
  },
  {
   "cell_type": "markdown",
   "metadata": {},
   "source": [
    "For our Machine learning API, We predict the values on the test data set and calculate the accuracy for test data."
   ]
  },
  {
   "cell_type": "code",
   "execution_count": 33,
   "metadata": {
    "collapsed": true
   },
   "outputs": [],
   "source": [
    "y_pred_lib_test=reg.predict(X_test)"
   ]
  },
  {
   "cell_type": "code",
   "execution_count": 34,
   "metadata": {
    "collapsed": true
   },
   "outputs": [],
   "source": [
    "accuracy_lib_test1=metrics.r2_score(y_test,y_pred_lib_test)"
   ]
  },
  {
   "cell_type": "code",
   "execution_count": 35,
   "metadata": {
    "collapsed": false
   },
   "outputs": [
    {
     "name": "stdout",
     "output_type": "stream",
     "text": [
      "('test accuracy for Library model:', 0.75514638489921559)\n"
     ]
    }
   ],
   "source": [
    "print('test accuracy for Library model:',accuracy_lib_test1)"
   ]
  },
  {
   "cell_type": "markdown",
   "metadata": {},
   "source": [
    "We are plottting the graph for actual price vs predicted price for machine learning API for test data."
   ]
  },
  {
   "cell_type": "code",
   "execution_count": 36,
   "metadata": {
    "collapsed": false
   },
   "outputs": [
    {
     "data": {
      "text/plain": [
       "<matplotlib.text.Text at 0x7fe281bbfa90>"
      ]
     },
     "execution_count": 36,
     "metadata": {},
     "output_type": "execute_result"
    },
    {
     "data": {
      "image/png": "[encoded data removed]",
      "text/plain": [
       "<matplotlib.figure.Figure at 0x7fe281cbadd0>"
      ]
     },
     "metadata": {},
     "output_type": "display_data"
    }
   ],
   "source": [
    "plt.scatter(y_test, y_pred_lib_test)\n",
    "plt.xlabel(\"Prices: $Y_i$\")\n",
    "plt.ylabel(\"Predicted prices: $\\hat{Y}_i$\")\n",
    "plt.title(\"Prices vs Predicted prices: $Y_i$ vs $\\hat{Y}_i$\")"
   ]
  },
  {
   "cell_type": "markdown",
   "metadata": {
    "collapsed": true
   },
   "source": [
    "<p align>Explaination: Since we had less data points in the dataset we split the data into training and testing set. In total we had 505 data points and we split that into 430 training data points and 75 testing data points. \n",
    "Further, we trained the model on the training data and chose XX number points to check the training accuracy of the \n",
    "both the linear models. Atlast, we used these trained models to predict the test accuracy. </p>\n",
    " <p align>   Now, we also tried to split the data into train, validation and test data but as our data points were less we found that both models were under-fitting the data by comparing the test, validation, and test accuracy. Thus, we chose to split the data into training and testing data, and hence reported the results. </p>"
   ]
  }
 ],
 "metadata": {
  "anaconda-cloud": {},
  "kernelspec": {
   "display_name": "Python 2",
   "language": "python",
   "name": "python2"
  },
  "language_info": {
   "codemirror_mode": {
    "name": "ipython",
    "version": 2
   },
   "file_extension": ".py",
   "mimetype": "text/x-python",
   "name": "python",
   "nbconvert_exporter": "python",
   "pygments_lexer": "ipython2",
   "version": "2.7.12"
  }
 },
 "nbformat": 4,
 "nbformat_minor": 1
}
