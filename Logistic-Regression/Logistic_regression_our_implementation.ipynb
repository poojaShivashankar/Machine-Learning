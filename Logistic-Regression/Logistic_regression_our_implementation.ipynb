{
 "cells": [
  {
   "cell_type": "markdown",
   "metadata": {},
   "source": [
    "Binary Classification using Logistic Regression\n",
    "                 \n",
    " <p align>A linear classifier is a model used to make a classification decision based on the value of a linear combination of the characteristics.Logistic regression is one of the popular method used for classification algorithms and Logistic Regression is a statistical method for analyzing dataset in which there are one or more independent variables that determine the output. The outcome is the measure with a binary(0 and 1) dependent variable in case of binary classification.</p>\n",
    "\n",
    "                 "
   ]
  },
  {
   "cell_type": "code",
   "execution_count": 92,
   "metadata": {
    "collapsed": true
   },
   "outputs": [],
   "source": [
    "#import the libraries necessary for our algorithm\n",
    "import pandas as pd\n",
    "import matplotlib.pyplot as plt\n",
    "import numpy as np\n",
    "import sklearn\n",
    "from sklearn.model_selection import KFold\n",
    "from sklearn.model_selection import train_test_split\n",
    "from sklearn.cross_validation import cross_val_score,cross_val_predict\n",
    "from sklearn import metrics,cross_validation\n",
    "from sklearn.linear_model import LogisticRegression\n",
    "from numpy import where\n",
    "from pylab import scatter, show, legend, xlabel, ylabel\n",
    "%matplotlib inline\n"
   ]
  },
  {
   "cell_type": "markdown",
   "metadata": {},
   "source": [
    "Here we will import the dataset and select the first two columns, which are the two features that we are using. We then normalize the data."
   ]
  },
  {
   "cell_type": "code",
   "execution_count": 93,
   "metadata": {
    "collapsed": true
   },
   "outputs": [],
   "source": [
    "# Load the dataset\n",
    "df=pd.read_csv(\"/home/sathyanarayanan/Downloads/pima.csv\")"
   ]
  },
  {
   "cell_type": "code",
   "execution_count": 94,
   "metadata": {
    "collapsed": true
   },
   "outputs": [],
   "source": [
    "#Extracting only two features from the dataset\n",
    "Xraw=df.iloc[:,[1,2]]"
   ]
  },
  {
   "cell_type": "code",
   "execution_count": 95,
   "metadata": {
    "collapsed": true
   },
   "outputs": [],
   "source": [
    "#normalize the dataset for rescaling all the columns to the range 0-1\n",
    "X = sklearn.preprocessing.normalize(Xraw)\n"
   ]
  },
  {
   "cell_type": "markdown",
   "metadata": {},
   "source": [
    "We are creating few arrays here which will hold the values"
   ]
  },
  {
   "cell_type": "code",
   "execution_count": 96,
   "metadata": {
    "collapsed": true
   },
   "outputs": [],
   "source": [
    "#Assigning the Class variable in Y and declaring few variables necessary for implementation\n",
    "Y=df.iloc[:,8].values\n",
    "sigm=[]\n",
    "accuracy_matrix=[]\n",
    "coeff=[]\n"
   ]
  },
  {
   "cell_type": "markdown",
   "metadata": {},
   "source": [
    "We are making 5 fold cross validation of data sets here"
   ]
  },
  {
   "cell_type": "code",
   "execution_count": 97,
   "metadata": {
    "collapsed": false
   },
   "outputs": [
    {
     "name": "stdout",
     "output_type": "stream",
     "text": [
      "KFold(n_splits=5, random_state=None, shuffle=False)\n"
     ]
    }
   ],
   "source": [
    "#Using kFold implementation\n",
    "\n",
    "kf = KFold(n_splits=5)\n",
    "kf.get_n_splits(X)\n",
    "print(kf)"
   ]
  },
  {
   "cell_type": "markdown",
   "metadata": {},
   "source": [
    "<p align> Here we are implementing our algorithm of predicting the response based on two features. Initially, we split the dataset into train and test set. We train our model using train dataset and then predict using test dataset.</p>\n",
    "<p align>The equation for logistic regression is :y = sigma(w^T * x) = 1/(1+exp(-w^T x)), where w refers to the parameters, X refers refers to the features. Since there is no closed form solution for w, you will need to use gradient descent or an alternative optimization approach to solve for the parameters.We use schoastic gradient descent to find the coefficients for the logistic regression model. Hence we use the below linear equations in our implementation. We also find the prediction using the following formula:\n",
    "    prediction=1/(1+exp(-w^T x))\n",
    "    b0 = b0 + alpha * (y – prediction) * prediction * (1 – prediction) * 1\n",
    "    b1 = b0 + alpha * (y – prediction) * prediction * (1 – prediction) * x1\n",
    "    b2 = b0 + alpha * (y – prediction) * prediction * (1 – prediction) * x2 </p>\n",
    "<p align> We also calculate the sigmoid values, and then find accuracy of our predicted output.</p>\n"
   ]
  },
  {
   "cell_type": "code",
   "execution_count": 98,
   "metadata": {
    "collapsed": false
   },
   "outputs": [],
   "source": [
    "#Our Algorithm\n",
    "def lr():\n",
    "    #Splitting the dataset in each fold into training and testing set\n",
    "    X_train, X_test, y_train, y_test = X[train], X[test], Y[train], Y[test]\n",
    "    #initialising coefficients, alpha and epoch\n",
    "    b0=0\n",
    "    b1=0\n",
    "    b2=0\n",
    "    alpha=0.3\n",
    "    epoch=1000\n",
    "    #running the loop for each row epoch times\n",
    "    for i in range(epoch):\n",
    "        for j in range(len(X_train)):\n",
    "            #calculating prediction and updating coefficient values\n",
    "            prediction=1 / (1 + np.exp(-(b0 + b1*X_train[j][0] + b2*X_train[j][1])))\n",
    "            b0 = b0 + alpha * (y_train[j]-prediction) * prediction * (1.0- prediction) * 1.0\n",
    "            b1= b1 + alpha * (y_train[j]-prediction) * prediction * (1.0- prediction) * X_train[j][0]\n",
    "            b2 = b2 + alpha * (y_train[j]-prediction) * prediction * (1.0- prediction) * X_train[j][1]         \n",
    "    coeff.append(b0)\n",
    "    coeff.append(b1)\n",
    "    coeff.append(b2)\n",
    "    #predicting based on test data\n",
    "    \n",
    "    for i in range(len(X_test)):\n",
    "        output=coeff[0]+coeff[1]*X_test[i][0]+coeff[2]*X_test[i][1]\n",
    "        sig=1.0/(1.0+np.exp(-output))\n",
    "        sigm.append(sig)\n",
    "    for i in range(len(sigm)):\n",
    "        if sigm[i]<=0.5:\n",
    "            sigm[i]=0\n",
    "        else:\n",
    "            sigm[i]=1\n",
    "    y_pred=np.array(sigm)\n",
    "    #calculating accuracy\n",
    "    correct = 0\n",
    "    for i in range(len(y_test)):\n",
    "        if y_test[i] == y_pred[i]:\n",
    "            correct += 1\n",
    "    accuracy=correct / float(len(y_test)) * 100.0\n",
    "    accuracy_matrix.append(accuracy)\n",
    "    \n",
    "\n",
    "    \n",
    "    return accuracy_matrix,y_pred,X_test"
   ]
  },
  {
   "cell_type": "markdown",
   "metadata": {},
   "source": [
    "Here we are splitting dataset to train and test and calling the logistic regression function"
   ]
  },
  {
   "cell_type": "code",
   "execution_count": 99,
   "metadata": {
    "collapsed": false
   },
   "outputs": [],
   "source": [
    "#running for 5-folds\n",
    "for train,test in kf.split(X):\n",
    "    my_accuracy_matrix,my_y_pred,my_X_test=lr()\n"
   ]
  },
  {
   "cell_type": "markdown",
   "metadata": {},
   "source": [
    "We are printing the maximum accuracy out of the 5"
   ]
  },
  {
   "cell_type": "code",
   "execution_count": 100,
   "metadata": {
    "collapsed": false
   },
   "outputs": [
    {
     "name": "stdout",
     "output_type": "stream",
     "text": [
      "66.88311688311688\n"
     ]
    }
   ],
   "source": [
    "#we are taking maximum accuracy\n",
    "print(max(my_accuracy_matrix))"
   ]
  },
  {
   "cell_type": "code",
   "execution_count": 101,
   "metadata": {
    "collapsed": false
   },
   "outputs": [],
   "source": [
    "final_ypred=my_y_pred[0:153]"
   ]
  },
  {
   "cell_type": "markdown",
   "metadata": {
    "collapsed": false
   },
   "source": [
    "<p align> This is about plotting the graph. We use the predicted values and plot the graph for the two features which we are using. Our graph is not very accurate. Both the classes are overlapping. We think that this is because of the dataset itself. We tried plotting the graph in scikit implementation also. We got the same plot. </p>"
   ]
  },
  {
   "cell_type": "code",
   "execution_count": 104,
   "metadata": {
    "collapsed": false
   },
   "outputs": [
    {
     "data": {
      "text/plain": [
       "<matplotlib.collections.PathCollection at 0x7faa57279710>"
      ]
     },
     "execution_count": 104,
     "metadata": {},
     "output_type": "execute_result"
    },
    {
     "data": {
      "image/png": "[encoded data removed]",
      "text/plain": [
       "<matplotlib.figure.Figure at 0x7faa572eaa58>"
      ]
     },
     "metadata": {},
     "output_type": "display_data"
    }
   ],
   "source": [
    "pos = where(final_ypred == 1)\n",
    "neg = where(final_ypred == 0)\n",
    "        \n",
    "plt.scatter(my_X_test[np.asarray(pos), 0], my_X_test[np.asarray(pos), 1], marker='o', c='b')\n",
    "plt.scatter(my_X_test[np.asarray(neg), 0], my_X_test[np.asarray(neg), 1], marker='x', c='r')\n",
    "\n"
   ]
  },
  {
   "cell_type": "code",
   "execution_count": null,
   "metadata": {
    "collapsed": true
   },
   "outputs": [],
   "source": []
  }
 ],
 "metadata": {
  "anaconda-cloud": {},
  "kernelspec": {
   "display_name": "Python [default]",
   "language": "python",
   "name": "python3"
  },
  "language_info": {
   "codemirror_mode": {
    "name": "ipython",
    "version": 3
   },
   "file_extension": ".py",
   "mimetype": "text/x-python",
   "name": "python",
   "nbconvert_exporter": "python",
   "pygments_lexer": "ipython3",
   "version": "3.5.2"
  }
 },
 "nbformat": 4,
 "nbformat_minor": 1
}
